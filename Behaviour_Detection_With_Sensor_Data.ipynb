{
 "cells": [
  {
   "cell_type": "code",
   "execution_count": 1,
   "id": "10a34c6d",
   "metadata": {
    "_cell_guid": "b1076dfc-b9ad-4769-8c92-a6c4dae69d19",
    "_uuid": "8f2839f25d086af736a60e9eeb907d3b93b6e0e5",
    "execution": {
     "iopub.execute_input": "2025-07-08T16:17:49.430371Z",
     "iopub.status.busy": "2025-07-08T16:17:49.430068Z",
     "iopub.status.idle": "2025-07-08T16:18:27.676075Z",
     "shell.execute_reply": "2025-07-08T16:18:27.675005Z"
    },
    "papermill": {
     "duration": 38.252576,
     "end_time": "2025-07-08T16:18:27.677902",
     "exception": false,
     "start_time": "2025-07-08T16:17:49.425326",
     "status": "completed"
    },
    "tags": []
   },
   "outputs": [],
   "source": [
    "import pandas as pd\n",
    "import numpy as np\n",
    "\n",
    "train_df = pd.read_csv('/kaggle/input/cmi-detect-behavior-with-sensor-data/train.csv')\n",
    "train_demo = pd.read_csv('/kaggle/input/cmi-detect-behavior-with-sensor-data/test_demographics.csv')\n",
    "test_df = pd.read_csv('/kaggle/input/cmi-detect-behavior-with-sensor-data/test.csv')\n",
    "test_demo = pd.read_csv('/kaggle/input/cmi-detect-behavior-with-sensor-data/test_demographics.csv')"
   ]
  },
  {
   "cell_type": "code",
   "execution_count": 2,
   "id": "d7ccf70d",
   "metadata": {
    "execution": {
     "iopub.execute_input": "2025-07-08T16:18:27.685418Z",
     "iopub.status.busy": "2025-07-08T16:18:27.684594Z",
     "iopub.status.idle": "2025-07-08T16:18:27.699796Z",
     "shell.execute_reply": "2025-07-08T16:18:27.698879Z"
    },
    "papermill": {
     "duration": 0.020287,
     "end_time": "2025-07-08T16:18:27.701279",
     "exception": false,
     "start_time": "2025-07-08T16:18:27.680992",
     "status": "completed"
    },
    "tags": []
   },
   "outputs": [],
   "source": [
    "train_demo.rename(columns={'Sequence_ID': 'sequence_id'}, inplace=True)\n",
    "test_demo.rename(columns={'Sequence_ID': 'sequence_id'}, inplace=True)"
   ]
  },
  {
   "cell_type": "code",
   "execution_count": 3,
   "id": "a155cf39",
   "metadata": {
    "execution": {
     "iopub.execute_input": "2025-07-08T16:18:27.708095Z",
     "iopub.status.busy": "2025-07-08T16:18:27.707780Z",
     "iopub.status.idle": "2025-07-08T16:18:27.713066Z",
     "shell.execute_reply": "2025-07-08T16:18:27.712042Z"
    },
    "papermill": {
     "duration": 0.010599,
     "end_time": "2025-07-08T16:18:27.714700",
     "exception": false,
     "start_time": "2025-07-08T16:18:27.704101",
     "status": "completed"
    },
    "tags": []
   },
   "outputs": [],
   "source": [
    "sensor_cols = [col for col in train_df.columns if any(s in col for s in ['acc_', 'gyro_', 'thermopile_', 'tof_'])]"
   ]
  },
  {
   "cell_type": "code",
   "execution_count": 4,
   "id": "656297c0",
   "metadata": {
    "execution": {
     "iopub.execute_input": "2025-07-08T16:18:27.721298Z",
     "iopub.status.busy": "2025-07-08T16:18:27.721006Z",
     "iopub.status.idle": "2025-07-08T16:18:27.728998Z",
     "shell.execute_reply": "2025-07-08T16:18:27.728179Z"
    },
    "papermill": {
     "duration": 0.012844,
     "end_time": "2025-07-08T16:18:27.730337",
     "exception": false,
     "start_time": "2025-07-08T16:18:27.717493",
     "status": "completed"
    },
    "tags": []
   },
   "outputs": [],
   "source": [
    "def preprocess(df, demo_df, sensor_cols, label_col='behavior', max_len=300):\n",
    "    X_seq, X_demo, y = [], [], []\n",
    "\n",
    "    # Fix column name if needed\n",
    "    if 'sequence_id' not in demo_df.columns:\n",
    "        demo_df.rename(columns={demo_df.columns[0]: 'sequence_id'}, inplace=True)\n",
    "\n",
    "    for seq_id, group in df.groupby(\"sequence_id\"):\n",
    "        group = group.sort_values(\"sequence_counter\")\n",
    "\n",
    "        # Replace deprecated fillna\n",
    "        sensor_data = group[sensor_cols].ffill().bfill().values\n",
    "\n",
    "        # Pad/trim\n",
    "        if sensor_data.shape[0] > max_len:\n",
    "            sensor_data = sensor_data[:max_len]\n",
    "        else:\n",
    "            pad = np.zeros((max_len - sensor_data.shape[0], len(sensor_cols)))\n",
    "            sensor_data = np.vstack([sensor_data, pad])\n",
    "\n",
    "        demo_row = demo_df[demo_df['sequence_id'] == seq_id].drop(columns=['sequence_id'], errors='ignore')\n",
    "        demo_vals = demo_row.values.squeeze() if not demo_row.empty else np.zeros(demo_df.shape[1] - 1)\n",
    "\n",
    "        X_seq.append(sensor_data)\n",
    "        X_demo.append(demo_vals)\n",
    "\n",
    "        if label_col in group:\n",
    "            y.append(group[label_col].iloc[0])\n",
    "\n",
    "    return (\n",
    "        np.array(X_seq, dtype=np.float32),\n",
    "        np.array(X_demo, dtype=np.float32),\n",
    "        np.array(y) if y else None\n",
    "    )"
   ]
  },
  {
   "cell_type": "code",
   "execution_count": 5,
   "id": "833e291a",
   "metadata": {
    "execution": {
     "iopub.execute_input": "2025-07-08T16:18:27.736670Z",
     "iopub.status.busy": "2025-07-08T16:18:27.736346Z",
     "iopub.status.idle": "2025-07-08T16:18:54.520220Z",
     "shell.execute_reply": "2025-07-08T16:18:54.519119Z"
    },
    "papermill": {
     "duration": 26.789446,
     "end_time": "2025-07-08T16:18:54.522475",
     "exception": false,
     "start_time": "2025-07-08T16:18:27.733029",
     "status": "completed"
    },
    "tags": []
   },
   "outputs": [],
   "source": [
    "X_train_seq, X_train_demo, y_train = preprocess(train_df, train_demo, sensor_cols)\n",
    "X_test_seq, X_test_demo, _ = preprocess(test_df, test_demo, sensor_cols)"
   ]
  },
  {
   "cell_type": "code",
   "execution_count": 6,
   "id": "56c12e74",
   "metadata": {
    "execution": {
     "iopub.execute_input": "2025-07-08T16:18:54.532877Z",
     "iopub.status.busy": "2025-07-08T16:18:54.532455Z",
     "iopub.status.idle": "2025-07-08T16:18:56.680697Z",
     "shell.execute_reply": "2025-07-08T16:18:56.679708Z"
    },
    "papermill": {
     "duration": 2.155705,
     "end_time": "2025-07-08T16:18:56.682733",
     "exception": false,
     "start_time": "2025-07-08T16:18:54.527028",
     "status": "completed"
    },
    "tags": []
   },
   "outputs": [],
   "source": [
    "from sklearn.preprocessing import LabelEncoder\n",
    "\n",
    "le = LabelEncoder()\n",
    "y_train_encoded = le.fit_transform(y_train)  # string → int"
   ]
  },
  {
   "cell_type": "code",
   "execution_count": 7,
   "id": "e12d2696",
   "metadata": {
    "execution": {
     "iopub.execute_input": "2025-07-08T16:18:56.690719Z",
     "iopub.status.busy": "2025-07-08T16:18:56.690113Z",
     "iopub.status.idle": "2025-07-08T16:19:09.447201Z",
     "shell.execute_reply": "2025-07-08T16:19:09.444700Z"
    },
    "papermill": {
     "duration": 12.766385,
     "end_time": "2025-07-08T16:19:09.452310",
     "exception": false,
     "start_time": "2025-07-08T16:18:56.685925",
     "status": "completed"
    },
    "tags": []
   },
   "outputs": [],
   "source": [
    "import torch\n",
    "from torch.utils.data import Dataset, DataLoader\n",
    "\n",
    "class SensorDataset(Dataset):\n",
    "    def __init__(self, X_seq, X_demo, y=None):\n",
    "        self.X_seq = torch.tensor(X_seq, dtype=torch.float32)\n",
    "        self.X_demo = torch.tensor(X_demo, dtype=torch.float32)\n",
    "        self.y = torch.tensor(y, dtype=torch.long) if y is not None else None\n",
    "\n",
    "    def __len__(self):\n",
    "        return len(self.X_seq)\n",
    "\n",
    "    def __getitem__(self, idx):\n",
    "        if self.y is not None:\n",
    "            return self.X_seq[idx], self.X_demo[idx], self.y[idx]\n",
    "        return self.X_seq[idx], self.X_demo[idx]\n",
    "\n",
    "train_dataset = SensorDataset(X_train_seq, X_train_demo, y_train_encoded)\n",
    "train_loader = DataLoader(train_dataset, batch_size=32, shuffle=True)"
   ]
  },
  {
   "cell_type": "code",
   "execution_count": 8,
   "id": "30fd3ee7",
   "metadata": {
    "execution": {
     "iopub.execute_input": "2025-07-08T16:19:09.466331Z",
     "iopub.status.busy": "2025-07-08T16:19:09.465205Z",
     "iopub.status.idle": "2025-07-08T16:19:09.475778Z",
     "shell.execute_reply": "2025-07-08T16:19:09.474662Z"
    },
    "papermill": {
     "duration": 0.017609,
     "end_time": "2025-07-08T16:19:09.477439",
     "exception": false,
     "start_time": "2025-07-08T16:19:09.459830",
     "status": "completed"
    },
    "tags": []
   },
   "outputs": [],
   "source": [
    "import torch.nn as nn\n",
    "\n",
    "class CNNGRUWithDemo(nn.Module):\n",
    "    def __init__(self, input_dim, demo_dim, hidden_dim=128, num_classes=2):\n",
    "        super().__init__()\n",
    "        self.cnn = nn.Sequential(\n",
    "            nn.Conv1d(input_dim, 64, kernel_size=3, padding=1),\n",
    "            nn.ReLU(),\n",
    "            nn.MaxPool1d(2)\n",
    "        )\n",
    "        self.gru = nn.GRU(64, hidden_dim, batch_first=True, bidirectional=True)\n",
    "        self.classifier = nn.Sequential(\n",
    "            nn.Linear(hidden_dim * 2 + demo_dim, 64),\n",
    "            nn.ReLU(),\n",
    "            nn.Linear(64, num_classes)\n",
    "        )\n",
    "\n",
    "    def forward(self, x_seq, x_demo):\n",
    "        x_seq = x_seq.permute(0, 2, 1)        # (B, F, T)\n",
    "        x = self.cnn(x_seq)                   # (B, C, T//2)\n",
    "        x = x.permute(0, 2, 1)                # (B, T//2, C)\n",
    "        _, h = self.gru(x)                    # h: (2, B, H)\n",
    "        h = torch.cat((h[-2], h[-1]), dim=1)  # bidirectional concat\n",
    "\n",
    "        x_all = torch.cat((h, x_demo), dim=1)\n",
    "        return self.classifier(x_all)"
   ]
  },
  {
   "cell_type": "code",
   "execution_count": 9,
   "id": "e3b8b8ed",
   "metadata": {
    "execution": {
     "iopub.execute_input": "2025-07-08T16:19:09.485728Z",
     "iopub.status.busy": "2025-07-08T16:19:09.484827Z",
     "iopub.status.idle": "2025-07-08T16:28:29.915204Z",
     "shell.execute_reply": "2025-07-08T16:28:29.914102Z"
    },
    "papermill": {
     "duration": 560.438217,
     "end_time": "2025-07-08T16:28:29.919161",
     "exception": false,
     "start_time": "2025-07-08T16:19:09.480944",
     "status": "completed"
    },
    "tags": []
   },
   "outputs": [
    {
     "name": "stdout",
     "output_type": "stream",
     "text": [
      "Epoch 1: Loss = nan\n",
      "Epoch 2: Loss = nan\n",
      "Epoch 3: Loss = nan\n",
      "Epoch 4: Loss = nan\n",
      "Epoch 5: Loss = nan\n",
      "Epoch 6: Loss = nan\n",
      "Epoch 7: Loss = nan\n",
      "Epoch 8: Loss = nan\n",
      "Epoch 9: Loss = nan\n",
      "Epoch 10: Loss = nan\n"
     ]
    }
   ],
   "source": [
    "device = torch.device(\"cuda\" if torch.cuda.is_available() else \"cpu\")\n",
    "model = CNNGRUWithDemo(input_dim=X_train_seq.shape[2], demo_dim=X_train_demo.shape[1]).to(device)\n",
    "optimizer = torch.optim.Adam(model.parameters(), lr=1e-3)\n",
    "loss_fn = nn.CrossEntropyLoss()\n",
    "\n",
    "for epoch in range(10):\n",
    "    model.train()\n",
    "    total_loss = 0\n",
    "    for x_seq, x_demo, y in train_loader:\n",
    "        x_seq, x_demo, y = x_seq.to(device), x_demo.to(device), y.to(device)\n",
    "        optimizer.zero_grad()\n",
    "        output = model(x_seq, x_demo)\n",
    "        loss = loss_fn(output, y)\n",
    "        loss.backward()\n",
    "        optimizer.step()\n",
    "        total_loss += loss.item()\n",
    "    print(f\"Epoch {epoch+1}: Loss = {total_loss:.4f}\")"
   ]
  },
  {
   "cell_type": "code",
   "execution_count": 10,
   "id": "10c4ab3f",
   "metadata": {
    "execution": {
     "iopub.execute_input": "2025-07-08T16:28:29.927952Z",
     "iopub.status.busy": "2025-07-08T16:28:29.926759Z",
     "iopub.status.idle": "2025-07-08T16:28:29.968308Z",
     "shell.execute_reply": "2025-07-08T16:28:29.967164Z"
    },
    "papermill": {
     "duration": 0.047685,
     "end_time": "2025-07-08T16:28:29.970083",
     "exception": false,
     "start_time": "2025-07-08T16:28:29.922398",
     "status": "completed"
    },
    "tags": []
   },
   "outputs": [],
   "source": [
    "test_dataset = SensorDataset(X_test_seq, X_test_demo)\n",
    "test_loader = DataLoader(test_dataset, batch_size=64)\n",
    "\n",
    "model.eval()\n",
    "preds = []\n",
    "with torch.no_grad():\n",
    "    for x_seq, x_demo in test_loader:\n",
    "        x_seq, x_demo = x_seq.to(device), x_demo.to(device)\n",
    "        output = model(x_seq, x_demo)\n",
    "        pred = torch.argmax(output, dim=1).cpu().numpy()\n",
    "        preds.extend(pred)"
   ]
  },
  {
   "cell_type": "code",
   "execution_count": 11,
   "id": "8e60dcad",
   "metadata": {
    "execution": {
     "iopub.execute_input": "2025-07-08T16:28:29.977923Z",
     "iopub.status.busy": "2025-07-08T16:28:29.977529Z",
     "iopub.status.idle": "2025-07-08T16:28:30.236501Z",
     "shell.execute_reply": "2025-07-08T16:28:30.235523Z"
    },
    "papermill": {
     "duration": 0.264863,
     "end_time": "2025-07-08T16:28:30.238206",
     "exception": false,
     "start_time": "2025-07-08T16:28:29.973343",
     "status": "completed"
    },
    "tags": []
   },
   "outputs": [],
   "source": [
    "submission_df = test_demo[['sequence_id']].copy()\n",
    "submission_df['behavior'] = preds\n",
    "submission_df.to_parquet(\"submission.parquet\", index=False)"
   ]
  }
 ],
 "metadata": {
  "kaggle": {
   "accelerator": "none",
   "dataSources": [
    {
     "databundleVersionId": 12518947,
     "sourceId": 102335,
     "sourceType": "competition"
    }
   ],
   "dockerImageVersionId": 31040,
   "isGpuEnabled": false,
   "isInternetEnabled": false,
   "language": "python",
   "sourceType": "notebook"
  },
  "kernelspec": {
   "display_name": "Python 3",
   "language": "python",
   "name": "python3"
  },
  "language_info": {
   "codemirror_mode": {
    "name": "ipython",
    "version": 3
   },
   "file_extension": ".py",
   "mimetype": "text/x-python",
   "name": "python",
   "nbconvert_exporter": "python",
   "pygments_lexer": "ipython3",
   "version": "3.11.11"
  },
  "papermill": {
   "default_parameters": {},
   "duration": 650.462189,
   "end_time": "2025-07-08T16:28:33.616857",
   "environment_variables": {},
   "exception": null,
   "input_path": "__notebook__.ipynb",
   "output_path": "__notebook__.ipynb",
   "parameters": {},
   "start_time": "2025-07-08T16:17:43.154668",
   "version": "2.6.0"
  }
 },
 "nbformat": 4,
 "nbformat_minor": 5
}
