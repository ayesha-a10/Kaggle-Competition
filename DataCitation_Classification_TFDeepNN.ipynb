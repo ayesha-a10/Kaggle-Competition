{
 "cells": [
  {
   "cell_type": "code",
   "execution_count": null,
   "metadata": {
    "execution": {
     "iopub.execute_input": "2025-07-18T18:08:57.243063Z",
     "iopub.status.busy": "2025-07-18T18:08:57.242731Z",
     "iopub.status.idle": "2025-07-18T18:09:47.036389Z",
     "shell.execute_reply": "2025-07-18T18:09:47.035657Z",
     "shell.execute_reply.started": "2025-07-18T18:08:57.243042Z"
    },
    "trusted": true
   },
   "outputs": [
    {
     "name": "stdout",
     "output_type": "stream",
     "text": [
      "Available XML files: 400\n",
      "Found 902 articles with matching XMLs.\n",
      "Remaining after text extraction: 902\n"
     ]
    },
    {
     "name": "stderr",
     "output_type": "stream",
     "text": [
      "/usr/local/lib/python3.11/dist-packages/keras/src/layers/core/dense.py:87: UserWarning: Do not pass an `input_shape`/`input_dim` argument to a layer. When using Sequential models, prefer using an `Input(shape)` object as the first layer in the model instead.\n",
      "  super().__init__(activity_regularizer=activity_regularizer, **kwargs)\n"
     ]
    },
    {
     "name": "stdout",
     "output_type": "stream",
     "text": [
      "Epoch 1/5\n",
      "\u001b[1m23/23\u001b[0m \u001b[32m━━━━━━━━━━━━━━━━━━━━\u001b[0m\u001b[37m\u001b[0m \u001b[1m3s\u001b[0m 54ms/step - accuracy: 0.5262 - loss: 0.9959 - val_accuracy: 0.8398 - val_loss: 0.5840\n",
      "Epoch 2/5\n",
      "\u001b[1m23/23\u001b[0m \u001b[32m━━━━━━━━━━━━━━━━━━━━\u001b[0m\u001b[37m\u001b[0m \u001b[1m1s\u001b[0m 41ms/step - accuracy: 0.9011 - loss: 0.4090 - val_accuracy: 0.8840 - val_loss: 0.2968\n",
      "Epoch 3/5\n",
      "\u001b[1m23/23\u001b[0m \u001b[32m━━━━━━━━━━━━━━━━━━━━\u001b[0m\u001b[37m\u001b[0m \u001b[1m1s\u001b[0m 41ms/step - accuracy: 0.9816 - loss: 0.1167 - val_accuracy: 0.9282 - val_loss: 0.2467\n",
      "Epoch 4/5\n",
      "\u001b[1m23/23\u001b[0m \u001b[32m━━━━━━━━━━━━━━━━━━━━\u001b[0m\u001b[37m\u001b[0m \u001b[1m1s\u001b[0m 41ms/step - accuracy: 0.9762 - loss: 0.0755 - val_accuracy: 0.9171 - val_loss: 0.2692\n",
      "Epoch 5/5\n",
      "\u001b[1m23/23\u001b[0m \u001b[32m━━━━━━━━━━━━━━━━━━━━\u001b[0m\u001b[37m\u001b[0m \u001b[1m1s\u001b[0m 40ms/step - accuracy: 0.9894 - loss: 0.0550 - val_accuracy: 0.9227 - val_loss: 0.2488\n",
      "\u001b[1m6/6\u001b[0m \u001b[32m━━━━━━━━━━━━━━━━━━━━\u001b[0m\u001b[37m\u001b[0m \u001b[1m0s\u001b[0m 17ms/step\n",
      "              precision    recall  f1-score   support\n",
      "\n",
      "     Missing       0.92      0.92      0.92        48\n",
      "     Primary       0.85      0.88      0.87        52\n",
      "   Secondary       0.97      0.95      0.96        81\n",
      "\n",
      "    accuracy                           0.92       181\n",
      "   macro avg       0.91      0.92      0.92       181\n",
      "weighted avg       0.92      0.92      0.92       181\n",
      "\n",
      "\u001b[1m1/1\u001b[0m \u001b[32m━━━━━━━━━━━━━━━━━━━━\u001b[0m\u001b[37m\u001b[0m \u001b[1m0s\u001b[0m 40ms/step\n"
     ]
    }
   ],
   "source": [
    "import os\n",
    "import pandas as pd\n",
    "import numpy as np\n",
    "import re\n",
    "from tqdm import tqdm\n",
    "from sklearn.model_selection import train_test_split\n",
    "from sklearn.metrics import classification_report\n",
    "from sklearn.preprocessing import LabelEncoder\n",
    "from lxml import etree\n",
    "from sklearn.feature_extraction.text import TfidfVectorizer\n",
    "from tensorflow.keras.models import Sequential\n",
    "from tensorflow.keras.layers import Dense, Dropout\n",
    "from tensorflow.keras.utils import to_categorical\n",
    "\n",
    "# === Paths ===\n",
    "DATA_DIR = \"/kaggle/input/make-data-count-finding-data-references\"\n",
    "TRAIN_LABELS = f\"{DATA_DIR}/train_labels.csv\"\n",
    "TRAIN_DIR = f\"{DATA_DIR}/train\"\n",
    "TEST_DIR = f\"{DATA_DIR}/test\"\n",
    "\n",
    "# === Load Labels ===\n",
    "labels = pd.read_csv(TRAIN_LABELS)\n",
    "\n",
    "# === Parse XML ===\n",
    "def parse_xml(xml_path):\n",
    "    try:\n",
    "        tree = etree.parse(xml_path)\n",
    "        return ' '.join(tree.xpath('//text()'))\n",
    "    except:\n",
    "        return \"\"\n",
    "\n",
    "# === Extract Text ===\n",
    "def extract_text(row, base_dir):\n",
    "    article_id = row['article_id']\n",
    "    for root, _, files in os.walk(base_dir):\n",
    "        for file in files:\n",
    "            if file == f\"{article_id}.xml\":\n",
    "                xml_path = os.path.join(root, file)\n",
    "                text = parse_xml(xml_path)\n",
    "                return text if isinstance(text, str) and text.strip() else \"\"\n",
    "    return \"\"\n",
    "\n",
    "# === Filter for Available XMLs ===\n",
    "available_xmls = set()\n",
    "for root, _, files in os.walk(TRAIN_DIR):\n",
    "    for file in files:\n",
    "        if file.endswith(\".xml\"):\n",
    "            available_xmls.add(file.replace(\".xml\", \"\"))\n",
    "\n",
    "print(f\"Available XML files: {len(available_xmls)}\")\n",
    "labels['article_id'] = labels['article_id'].astype(str)\n",
    "labels = labels[labels['article_id'].isin(available_xmls)]\n",
    "print(f\"Found {len(labels)} articles with matching XMLs.\")\n",
    "\n",
    "# === Extract Text from XMLs ===\n",
    "labels['text'] = labels.apply(lambda row: extract_text(row, TRAIN_DIR), axis=1)\n",
    "labels.dropna(subset=['text'], inplace=True)\n",
    "labels = labels[labels['text'].astype(str).str.strip().astype(bool)]\n",
    "print(f\"Remaining after text extraction: {len(labels)}\")\n",
    "\n",
    "# === Label Encoding ===\n",
    "le = LabelEncoder()\n",
    "labels['label'] = le.fit_transform(labels['type'])\n",
    "\n",
    "# === Train-Val Split ===\n",
    "X_train, X_val, y_train, y_val = train_test_split(labels['text'], labels['label'], test_size=0.2, random_state=42)\n",
    "\n",
    "# === TF-IDF Vectorization ===\n",
    "vectorizer = TfidfVectorizer(max_features=20000, ngram_range=(1, 2))\n",
    "X_train_tfidf = vectorizer.fit_transform(X_train)\n",
    "X_val_tfidf = vectorizer.transform(X_val)\n",
    "\n",
    "# === Model ===\n",
    "model = Sequential()\n",
    "model.add(Dense(256, activation='relu', input_shape=(X_train_tfidf.shape[1],)))\n",
    "model.add(Dropout(0.3))\n",
    "model.add(Dense(128, activation='relu'))\n",
    "model.add(Dropout(0.3))\n",
    "model.add(Dense(len(le.classes_), activation='softmax'))\n",
    "\n",
    "model.compile(optimizer='adam', loss='sparse_categorical_crossentropy', metrics=['accuracy'])\n",
    "\n",
    "# === Training ===\n",
    "model.fit(X_train_tfidf.toarray(), y_train, epochs=5, batch_size=32, validation_data=(X_val_tfidf.toarray(), y_val))\n",
    "\n",
    "# === Evaluation ===\n",
    "y_pred = model.predict(X_val_tfidf.toarray())\n",
    "y_pred_labels = np.argmax(y_pred, axis=1)\n",
    "print(classification_report(y_val, y_pred_labels, target_names=le.classes_))"
   ]
  },
  {
   "cell_type": "code",
   "execution_count": null,
   "metadata": {},
   "outputs": [],
   "source": [
    "# === Prepare Test Data ===\n",
    "test_articles = []\n",
    "for root, _, files in os.walk(TEST_DIR):\n",
    "    for file in files:\n",
    "        if file.endswith(\".xml\"):\n",
    "            test_articles.append(os.path.splitext(file)[0])\n",
    "test_df = pd.DataFrame({'article_id': test_articles})\n",
    "test_df['text'] = test_df.apply(lambda row: extract_text(row, TEST_DIR), axis=1)\n",
    "test_df = test_df[test_df['text'].astype(str).str.strip().astype(bool)]\n",
    "\n",
    "# === TF-IDF for Test ===\n",
    "test_tfidf = vectorizer.transform(test_df['text'])\n",
    "test_preds = model.predict(test_tfidf.toarray())\n",
    "test_labels = le.inverse_transform(np.argmax(test_preds, axis=1))\n",
    "\n",
    "# === Submission ===\n",
    "test_df['type'] = test_labels\n",
    "test_df['dataset_id'] = ['unknown'] * len(test_df)\n",
    "test_df['row_id'] = range(len(test_df))\n",
    "\n",
    "submission = test_df[['row_id', 'article_id', 'dataset_id', 'type']]\n",
    "submission.to_csv(\"submission.csv\", index=False)"
   ]
  }
 ],
 "metadata": {
  "kaggle": {
   "accelerator": "none",
   "dataSources": [
    {
     "databundleVersionId": 12656064,
     "sourceId": 82370,
     "sourceType": "competition"
    }
   ],
   "dockerImageVersionId": 31089,
   "isGpuEnabled": false,
   "isInternetEnabled": false,
   "language": "python",
   "sourceType": "notebook"
  },
  "kernelspec": {
   "display_name": "Python 3",
   "language": "python",
   "name": "python3"
  },
  "language_info": {
   "codemirror_mode": {
    "name": "ipython",
    "version": 3
   },
   "file_extension": ".py",
   "mimetype": "text/x-python",
   "name": "python",
   "nbconvert_exporter": "python",
   "pygments_lexer": "ipython3",
   "version": "3.11.13"
  }
 },
 "nbformat": 4,
 "nbformat_minor": 4
}
