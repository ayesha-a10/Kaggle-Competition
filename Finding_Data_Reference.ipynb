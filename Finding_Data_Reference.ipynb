{
 "cells": [
  {
   "cell_type": "code",
   "execution_count": 1,
   "id": "5756fdb9",
   "metadata": {
    "execution": {
     "iopub.execute_input": "2025-07-08T16:05:41.934342Z",
     "iopub.status.busy": "2025-07-08T16:05:41.933988Z",
     "iopub.status.idle": "2025-07-08T16:05:48.587579Z",
     "shell.execute_reply": "2025-07-08T16:05:48.586474Z"
    },
    "papermill": {
     "duration": 6.658022,
     "end_time": "2025-07-08T16:05:48.589104",
     "exception": false,
     "start_time": "2025-07-08T16:05:41.931082",
     "status": "completed"
    },
    "tags": []
   },
   "outputs": [
    {
     "name": "stdout",
     "output_type": "stream",
     "text": [
      "Requirement already satisfied: pandas in /usr/local/lib/python3.11/dist-packages (2.2.3)\r\n",
      "Requirement already satisfied: lxml in /usr/local/lib/python3.11/dist-packages (5.4.0)\r\n",
      "Requirement already satisfied: xgboost in /usr/local/lib/python3.11/dist-packages (2.0.3)\r\n",
      "Requirement already satisfied: scikit-learn in /usr/local/lib/python3.11/dist-packages (1.2.2)\r\n",
      "Collecting pymupdf\r\n",
      "  Downloading pymupdf-1.26.3-cp39-abi3-manylinux_2_28_x86_64.whl.metadata (3.4 kB)\r\n",
      "Requirement already satisfied: numpy>=1.23.2 in /usr/local/lib/python3.11/dist-packages (from pandas) (1.26.4)\r\n",
      "Requirement already satisfied: python-dateutil>=2.8.2 in /usr/local/lib/python3.11/dist-packages (from pandas) (2.9.0.post0)\r\n",
      "Requirement already satisfied: pytz>=2020.1 in /usr/local/lib/python3.11/dist-packages (from pandas) (2025.2)\r\n",
      "Requirement already satisfied: tzdata>=2022.7 in /usr/local/lib/python3.11/dist-packages (from pandas) (2025.2)\r\n",
      "Requirement already satisfied: scipy in /usr/local/lib/python3.11/dist-packages (from xgboost) (1.15.3)\r\n",
      "Requirement already satisfied: joblib>=1.1.1 in /usr/local/lib/python3.11/dist-packages (from scikit-learn) (1.5.1)\r\n",
      "Requirement already satisfied: threadpoolctl>=2.0.0 in /usr/local/lib/python3.11/dist-packages (from scikit-learn) (3.6.0)\r\n",
      "Requirement already satisfied: mkl_fft in /usr/local/lib/python3.11/dist-packages (from numpy>=1.23.2->pandas) (1.3.8)\r\n",
      "Requirement already satisfied: mkl_random in /usr/local/lib/python3.11/dist-packages (from numpy>=1.23.2->pandas) (1.2.4)\r\n",
      "Requirement already satisfied: mkl_umath in /usr/local/lib/python3.11/dist-packages (from numpy>=1.23.2->pandas) (0.1.1)\r\n",
      "Requirement already satisfied: mkl in /usr/local/lib/python3.11/dist-packages (from numpy>=1.23.2->pandas) (2025.2.0)\r\n",
      "Requirement already satisfied: tbb4py in /usr/local/lib/python3.11/dist-packages (from numpy>=1.23.2->pandas) (2022.2.0)\r\n",
      "Requirement already satisfied: mkl-service in /usr/local/lib/python3.11/dist-packages (from numpy>=1.23.2->pandas) (2.4.1)\r\n",
      "Requirement already satisfied: six>=1.5 in /usr/local/lib/python3.11/dist-packages (from python-dateutil>=2.8.2->pandas) (1.17.0)\r\n",
      "Requirement already satisfied: intel-openmp<2026,>=2024 in /usr/local/lib/python3.11/dist-packages (from mkl->numpy>=1.23.2->pandas) (2024.2.0)\r\n",
      "Requirement already satisfied: tbb==2022.* in /usr/local/lib/python3.11/dist-packages (from mkl->numpy>=1.23.2->pandas) (2022.2.0)\r\n",
      "Requirement already satisfied: tcmlib==1.* in /usr/local/lib/python3.11/dist-packages (from tbb==2022.*->mkl->numpy>=1.23.2->pandas) (1.4.0)\r\n",
      "Requirement already satisfied: intel-cmplr-lib-rt in /usr/local/lib/python3.11/dist-packages (from mkl_umath->numpy>=1.23.2->pandas) (2024.2.0)\r\n",
      "Requirement already satisfied: intel-cmplr-lib-ur==2024.2.0 in /usr/local/lib/python3.11/dist-packages (from intel-openmp<2026,>=2024->mkl->numpy>=1.23.2->pandas) (2024.2.0)\r\n",
      "Downloading pymupdf-1.26.3-cp39-abi3-manylinux_2_28_x86_64.whl (24.1 MB)\r\n",
      "\u001b[2K   \u001b[90m━━━━━━━━━━━━━━━━━━━━━━━━━━━━━━━━━━━━━━━━\u001b[0m \u001b[32m24.1/24.1 MB\u001b[0m \u001b[31m82.7 MB/s\u001b[0m eta \u001b[36m0:00:00\u001b[0m\r\n",
      "\u001b[?25hInstalling collected packages: pymupdf\r\n",
      "Successfully installed pymupdf-1.26.3\r\n",
      "Note: you may need to restart the kernel to use updated packages.\n"
     ]
    }
   ],
   "source": [
    "pip install pandas lxml xgboost scikit-learn pymupdf"
   ]
  },
  {
   "cell_type": "code",
   "execution_count": 2,
   "id": "34944152",
   "metadata": {
    "_cell_guid": "b1076dfc-b9ad-4769-8c92-a6c4dae69d19",
    "_uuid": "8f2839f25d086af736a60e9eeb907d3b93b6e0e5",
    "execution": {
     "iopub.execute_input": "2025-07-08T16:05:48.595514Z",
     "iopub.status.busy": "2025-07-08T16:05:48.595229Z",
     "iopub.status.idle": "2025-07-08T16:05:52.983931Z",
     "shell.execute_reply": "2025-07-08T16:05:52.982965Z"
    },
    "papermill": {
     "duration": 4.393608,
     "end_time": "2025-07-08T16:05:52.985476",
     "exception": false,
     "start_time": "2025-07-08T16:05:48.591868",
     "status": "completed"
    },
    "tags": []
   },
   "outputs": [
    {
     "name": "stdout",
     "output_type": "stream",
     "text": [
      "              precision    recall  f1-score   support\n",
      "\n",
      "     Primary       0.00      0.00      0.00        43\n",
      "   Secondary       0.70      1.00      0.82       101\n",
      "\n",
      "    accuracy                           0.70       144\n",
      "   macro avg       0.35      0.50      0.41       144\n",
      "weighted avg       0.49      0.70      0.58       144\n",
      "\n"
     ]
    },
    {
     "name": "stderr",
     "output_type": "stream",
     "text": [
      "/usr/local/lib/python3.11/dist-packages/sklearn/metrics/_classification.py:1344: UndefinedMetricWarning: Precision and F-score are ill-defined and being set to 0.0 in labels with no predicted samples. Use `zero_division` parameter to control this behavior.\n",
      "  _warn_prf(average, modifier, msg_start, len(result))\n",
      "/usr/local/lib/python3.11/dist-packages/sklearn/metrics/_classification.py:1344: UndefinedMetricWarning: Precision and F-score are ill-defined and being set to 0.0 in labels with no predicted samples. Use `zero_division` parameter to control this behavior.\n",
      "  _warn_prf(average, modifier, msg_start, len(result))\n",
      "/usr/local/lib/python3.11/dist-packages/sklearn/metrics/_classification.py:1344: UndefinedMetricWarning: Precision and F-score are ill-defined and being set to 0.0 in labels with no predicted samples. Use `zero_division` parameter to control this behavior.\n",
      "  _warn_prf(average, modifier, msg_start, len(result))\n"
     ]
    }
   ],
   "source": [
    "import os\n",
    "import pandas as pd\n",
    "import numpy as np\n",
    "import re\n",
    "from lxml import etree\n",
    "import fitz  # PyMuPDF\n",
    "from sklearn.model_selection import train_test_split\n",
    "from sklearn.metrics import classification_report\n",
    "from xgboost import XGBClassifier\n",
    "\n",
    "# === Paths ===\n",
    "DATA_DIR = \"/kaggle/input/make-data-count-finding-data-references\"\n",
    "TRAIN_LABELS = f\"{DATA_DIR}/train_labels.csv\"\n",
    "TRAIN_DIR = f\"{DATA_DIR}/train\"\n",
    "TEST_DIR = f\"{DATA_DIR}/test\"\n",
    "\n",
    "# === Load labels ===\n",
    "labels = pd.read_csv(TRAIN_LABELS)\n",
    "\n",
    "# === Parse XML ===\n",
    "def parse_xml(xml_path):\n",
    "    try:\n",
    "        tree = etree.parse(xml_path)\n",
    "        return ' '.join(tree.xpath('//text()'))\n",
    "    except:\n",
    "        return \"\"\n",
    "\n",
    "# === Parse PDF ===\n",
    "def parse_pdf(pdf_path):\n",
    "    try:\n",
    "        doc = fitz.open(pdf_path)\n",
    "        text = \"\"\n",
    "        for page in doc:\n",
    "            text += page.get_text()\n",
    "        return text\n",
    "    except:\n",
    "        return \"\"\n",
    "\n",
    "# === Feature extraction ===\n",
    "def extract_features(row, base_dir):\n",
    "    article_id = row['article_id']\n",
    "    xml_path = os.path.join(base_dir, f\"{article_id}.xml\")\n",
    "    pdf_path = os.path.join(base_dir, f\"{article_id}.pdf\")\n",
    "    \n",
    "    xml_text = parse_xml(xml_path)\n",
    "    pdf_text = parse_pdf(pdf_path)\n",
    "    full_text = (xml_text or \"\") + \"\\n\" + (pdf_text or \"\")\n",
    "    \n",
    "    features = {\n",
    "        \"has_doi\": int(bool(re.search(r'10\\.\\d{4,9}/[-._;()/:A-Z0-9]+', full_text, re.I))),\n",
    "        \"has_accession\": int(bool(re.search(r'\\b[A-Z]{2,}_?\\d{4,}\\b', full_text))),\n",
    "        \"has_url\": int(bool(re.search(r'https?://\\S+', full_text))),\n",
    "        \"downloaded_from\": int(\"downloaded from\" in full_text.lower()),\n",
    "        \"numeric_count\": len(re.findall(r'\\d{4,}', full_text)),\n",
    "        \"mention_count\": len(re.findall(r'dataset|data set|accession|10\\.', full_text.lower()))\n",
    "    }\n",
    "    return pd.Series(features)\n",
    "\n",
    "# === Apply feature extraction ===\n",
    "features_df = labels.apply(lambda row: extract_features(row, TRAIN_DIR), axis=1)\n",
    "data = pd.concat([labels, features_df], axis=1)\n",
    "data['target'] = data['type'].map({'Primary': 0, 'Secondary': 1})\n",
    "data['target'] = data['type'].map({'Primary': 0, 'Secondary': 1})\n",
    "data = data.dropna(subset=['target'])\n",
    "data['target'] = data['target'].astype(int)\n",
    "\n",
    "# === Model training ===\n",
    "X = data.drop(columns=['article_id', 'dataset_id', 'type', 'target'])\n",
    "y = data['target']\n",
    "\n",
    "X_train, X_val, y_train, y_val = train_test_split(X, y, test_size=0.2, random_state=42)\n",
    "\n",
    "model = XGBClassifier(use_label_encoder=False, eval_metric='logloss')\n",
    "model.fit(X_train, y_train)\n",
    "y_pred = model.predict(X_val)\n",
    "\n",
    "print(classification_report(y_val, y_pred, target_names=['Primary', 'Secondary']))\n",
    "\n",
    "# === Prepare test set ===\n",
    "test_files = os.listdir(TEST_DIR)\n",
    "test_articles = sorted(set([f.split('.')[0] for f in test_files]))\n",
    "test_df = pd.DataFrame([(aid, '') for aid in test_articles], columns=['article_id', 'dataset_id'])\n",
    "\n",
    "test_features = test_df.apply(lambda row: extract_features(row, TEST_DIR), axis=1)\n",
    "test_X = test_features\n",
    "\n",
    "# === Predict on test ===\n",
    "test_preds = model.predict(test_X)\n",
    "test_df['type'] = ['Primary' if p == 0 else 'Secondary' for p in test_preds]\n",
    "test_df['row_id'] = test_df.index\n",
    "\n",
    "# === Save submission ===\n",
    "submission = test_df[['row_id', 'article_id', 'dataset_id', 'type']]\n",
    "submission.to_csv(\"submission.csv\", index=False)"
   ]
  }
 ],
 "metadata": {
  "kaggle": {
   "accelerator": "none",
   "dataSources": [
    {
     "databundleVersionId": 12656064,
     "sourceId": 82370,
     "sourceType": "competition"
    }
   ],
   "dockerImageVersionId": 31089,
   "isGpuEnabled": false,
   "isInternetEnabled": true,
   "language": "python",
   "sourceType": "notebook"
  },
  "kernelspec": {
   "display_name": "Python 3",
   "language": "python",
   "name": "python3"
  },
  "language_info": {
   "codemirror_mode": {
    "name": "ipython",
    "version": 3
   },
   "file_extension": ".py",
   "mimetype": "text/x-python",
   "name": "python",
   "nbconvert_exporter": "python",
   "pygments_lexer": "ipython3",
   "version": "3.11.13"
  },
  "papermill": {
   "default_parameters": {},
   "duration": 16.070574,
   "end_time": "2025-07-08T16:05:53.606610",
   "environment_variables": {},
   "exception": null,
   "input_path": "__notebook__.ipynb",
   "output_path": "__notebook__.ipynb",
   "parameters": {},
   "start_time": "2025-07-08T16:05:37.536036",
   "version": "2.6.0"
  }
 },
 "nbformat": 4,
 "nbformat_minor": 5
}
